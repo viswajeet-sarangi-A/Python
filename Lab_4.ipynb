{
  "cells": [
    {
      "cell_type": "markdown",
      "metadata": {
        "id": "view-in-github",
        "colab_type": "text"
      },
      "source": [
        "<a href=\"https://colab.research.google.com/github/viswajeet-sarangi-A/Python/blob/main/Lab_4.ipynb\" target=\"_parent\"><img src=\"https://colab.research.google.com/assets/colab-badge.svg\" alt=\"Open In Colab\"/></a>"
      ]
    },
    {
      "cell_type": "code",
      "execution_count": null,
      "id": "755ecdb9-5445-4204-9d42-59724073c7f9",
      "metadata": {
        "id": "755ecdb9-5445-4204-9d42-59724073c7f9",
        "outputId": "42a7e776-93aa-4d85-f048-bd16dcfcc963"
      },
      "outputs": [
        {
          "name": "stdin",
          "output_type": "stream",
          "text": [
            "Enter a string:   India is my motherland. I love my country. Capital of India is New Delhi.\n"
          ]
        },
        {
          "name": "stdout",
          "output_type": "stream",
          "text": [
            "Length of the string: 74\n",
            "Substring 'country' found: True\n",
            "Word occurrences: {'I': 1, 'India': 2, 'motherland.': 1, 'is': 2, 'my': 2, 'country.': 1, 'New': 1, 'of': 1, 'Delhi.': 1, 'Capital': 1, 'love': 1}\n"
          ]
        }
      ],
      "source": [
        "1.Write a program to enter a string. Calculate the length of the string. Find the substring country.\n",
        "string = input(\"Enter a string: \")\n",
        "length = len(string)\n",
        "substring = \"country\" in string\n",
        "words = string.split()\n",
        "word_count = {word: words.count(word) for word in set(words)}\n",
        "print(f\"Length of the string: {length}\")\n",
        "print(f\"Substring 'country' found: {substring}\")\n",
        "print(f\"Word occurrences: {word_count}\")"
      ]
    },
    {
      "cell_type": "code",
      "execution_count": null,
      "id": "9cfb6888-0c42-430d-a067-025b4a6e0407",
      "metadata": {
        "id": "9cfb6888-0c42-430d-a067-025b4a6e0407",
        "outputId": "3f1efccf-0551-4199-88ff-b1124869e8a0"
      },
      "outputs": [
        {
          "name": "stdin",
          "output_type": "stream",
          "text": [
            "Enter comma-separated words:  without,hello,bag,world\n"
          ]
        },
        {
          "name": "stdout",
          "output_type": "stream",
          "text": [
            "bag,hello,without,world\n"
          ]
        }
      ],
      "source": [
        "2.Write a program that accepts a comma separated sequence of words as input and prints the words\n",
        "\n",
        "words = input(\"Enter comma-separated words: \").split(',')\n",
        "sorted_words = sorted(words)\n",
        "print(','.join(sorted_words))"
      ]
    },
    {
      "cell_type": "code",
      "execution_count": null,
      "id": "40eb9b0f-bf64-486b-93a8-32b1a6863413",
      "metadata": {
        "id": "40eb9b0f-bf64-486b-93a8-32b1a6863413",
        "outputId": "e063fb3e-2c7b-4a12-819a-fe05f90d13f7"
      },
      "outputs": [
        {
          "name": "stdin",
          "output_type": "stream",
          "text": [
            "Enter a line (or type 'done' to finish):  Hello world\n",
            "Enter a line (or type 'done' to finish):  Practice makes perfect\n",
            "Enter a line (or type 'done' to finish):  done\n"
          ]
        },
        {
          "name": "stdout",
          "output_type": "stream",
          "text": [
            "HELLO WORLD\n",
            "PRACTICE MAKES PERFECT\n"
          ]
        }
      ],
      "source": [
        "3.Write a program that accepts sequence of lines as input and prints the lines after making all\n",
        "\n",
        "lines = []\n",
        "while True:\n",
        "    line = input(\"Enter a line (or type 'done' to finish): \")\n",
        "    if line.lower() == 'done':\n",
        "        break\n",
        "    lines.append(line.upper())\n",
        "print(\"\\n\".join(lines))"
      ]
    },
    {
      "cell_type": "code",
      "execution_count": null,
      "id": "2068a729-045d-49ce-a983-86827fe32843",
      "metadata": {
        "id": "2068a729-045d-49ce-a983-86827fe32843",
        "outputId": "9b69703f-8ea4-478c-f1e0-1a484691831d"
      },
      "outputs": [
        {
          "name": "stdin",
          "output_type": "stream",
          "text": [
            "Enter whitespace-separated words:  hello world and practice makes perfect and hello world again\n"
          ]
        },
        {
          "name": "stdout",
          "output_type": "stream",
          "text": [
            "again and hello makes perfect practice world\n"
          ]
        }
      ],
      "source": [
        "4.Write a program that accepts a sequence of whitespace separated words as input and prints the\n",
        "\n",
        "words = input(\"Enter whitespace-separated words: \").split()\n",
        "unique_sorted_words = sorted(set(words))\n",
        "print(\" \".join(unique_sorted_words))"
      ]
    },
    {
      "cell_type": "code",
      "execution_count": null,
      "id": "098ef55e-782e-4a1b-8edf-b09aa7157b21",
      "metadata": {
        "id": "098ef55e-782e-4a1b-8edf-b09aa7157b21",
        "outputId": "47a1e255-29b2-4c02-e2e0-118b6f6460b2"
      },
      "outputs": [
        {
          "name": "stdin",
          "output_type": "stream",
          "text": [
            "Enter a sentence:  hello world! 123\n"
          ]
        },
        {
          "name": "stdout",
          "output_type": "stream",
          "text": [
            "LETTERS 10\n",
            "DIGITS 3\n"
          ]
        }
      ],
      "source": [
        "5.Write a program that accepts a sentence and calculate the number of letters and digits.\n",
        "\n",
        "sentence = input(\"Enter a sentence: \")\n",
        "letters = sum(c.isalpha() for c in sentence)\n",
        "digits = sum(c.isdigit() for c in sentence)\n",
        "print(f\"LETTERS {letters}\")\n",
        "print(f\"DIGITS {digits}\")"
      ]
    },
    {
      "cell_type": "code",
      "execution_count": null,
      "id": "47cc59ef-18bb-45d2-bb80-dc15070b87b4",
      "metadata": {
        "id": "47cc59ef-18bb-45d2-bb80-dc15070b87b4",
        "outputId": "88529d0c-3474-46f7-cf94-501f31511a03"
      },
      "outputs": [
        {
          "name": "stdin",
          "output_type": "stream",
          "text": [
            "Enter a string:  Yes\n"
          ]
        },
        {
          "name": "stdout",
          "output_type": "stream",
          "text": [
            "Yes\n"
          ]
        }
      ],
      "source": [
        "6.Write a program which accepts a string as input to print \"Yes\" if the string is \"yes\" or \"YES\" or \"Yes\",otherwise print \"No\".\n",
        "string = input(\"Enter a string: \")\n",
        "print(\"Yes\" if string.lower() == \"yes\" else \"No\")"
      ]
    },
    {
      "cell_type": "code",
      "execution_count": null,
      "id": "329bcf07-adb5-4067-b25d-fdb131ee7829",
      "metadata": {
        "id": "329bcf07-adb5-4067-b25d-fdb131ee7829",
        "outputId": "c1a0fd43-84e4-4767-dbd5-c94c1e70c9e5"
      },
      "outputs": [
        {
          "name": "stdin",
          "output_type": "stream",
          "text": [
            "Enter whitespace-separated words:  2 cats and 3 dogs.\n"
          ]
        },
        {
          "name": "stdout",
          "output_type": "stream",
          "text": [
            "['2', '3']\n"
          ]
        }
      ],
      "source": [
        "7.Write a program which accepts a sequence of words separated by whitespace as input to print the words composed of digits only.\n",
        "words = input(\"Enter whitespace-separated words: \").split()\n",
        "digit_words = [word for word in words if word.isdigit()]\n",
        "print(digit_words)"
      ]
    },
    {
      "cell_type": "code",
      "source": [],
      "metadata": {
        "id": "IjknO-C6FdQ5"
      },
      "id": "IjknO-C6FdQ5",
      "execution_count": null,
      "outputs": []
    },
    {
      "cell_type": "code",
      "execution_count": null,
      "id": "d0976082-fb20-40ea-a4b4-99cacf701975",
      "metadata": {
        "id": "d0976082-fb20-40ea-a4b4-99cacf701975",
        "outputId": "df971d50-dbe6-42c3-90c4-e666525ca1bd"
      },
      "outputs": [
        {
          "name": "stdin",
          "output_type": "stream",
          "text": [
            "Enter a string:  abcdefgabc\n"
          ]
        },
        {
          "name": "stdout",
          "output_type": "stream",
          "text": [
            "g,1\n",
            "d,1\n",
            "e,1\n",
            "b,2\n",
            "c,2\n",
            "f,1\n",
            "a,2\n"
          ]
        }
      ],
      "source": [
        "8.Please write a program which count and print the numbers of each character in a string input by console.\n",
        "string = input(\"Enter a string: \")\n",
        "char_count = {char: string.count(char) for char in set(string)}\n",
        "for char, count in char_count.items():\n",
        "    print(f\"{char},{count}\")"
      ]
    },
    {
      "cell_type": "code",
      "execution_count": null,
      "id": "587d9fa1-b021-404a-a1fb-173c1a2f99da",
      "metadata": {
        "id": "587d9fa1-b021-404a-a1fb-173c1a2f99da",
        "outputId": "4fe55994-a153-465c-d32a-230b1d15fa89"
      },
      "outputs": [
        {
          "name": "stdin",
          "output_type": "stream",
          "text": [
            "Enter a string:  The quick brown Fox jumps over the lazy Dog.\n"
          ]
        },
        {
          "name": "stdout",
          "output_type": "stream",
          "text": [
            "Reversed: .goD yzal eht revo spmuj xoF nworb kciuq ehT\n",
            "Is palindrome: False\n"
          ]
        },
        {
          "name": "stdin",
          "output_type": "stream",
          "text": [
            "Enter a substring to check:  jumps\n"
          ]
        },
        {
          "name": "stdout",
          "output_type": "stream",
          "text": [
            "Ends with 'jumps': False\n",
            "Capitalized: The Quick Brown Fox Jumps Over The Lazy Dog.\n"
          ]
        },
        {
          "name": "stdin",
          "output_type": "stream",
          "text": [
            "Enter another string:  jumps over the lazy Dog.\n"
          ]
        },
        {
          "name": "stdout",
          "output_type": "stream",
          "text": [
            "Is anagram: False\n",
            "Without vowels: Th qck brwn Fx jmps vr th lzy Dg.\n",
            "Length of the longest word: 5\n"
          ]
        }
      ],
      "source": [
        "9.Write a program that accepts a string\n",
        "#I. 1.reverses it.\n",
        "#II. 2.checks whether it is a palindrome.\n",
        "#III. 3.checks whether it ends with a specific substring.\n",
        "#IV. 4.capitalize the first letter of each word in a string\n",
        "#V. 5.check if a string is anagram of another string\n",
        "#VI. 6.remove vowels from string\n",
        "#VII. 7.find length of the longest word in a sentence\n",
        "string = input(\"Enter a string: \")\n",
        "reversed_string = string[::-1]\n",
        "print(f\"Reversed: {reversed_string}\")\n",
        "is_palindrome = string == reversed_string\n",
        "print(f\"Is palindrome: {is_palindrome}\")\n",
        "substring = input(\"Enter a substring to check: \")\n",
        "ends_with = string.endswith(substring)\n",
        "print(f\"Ends with '{substring}': {ends_with}\")\n",
        "capitalized = string.title()\n",
        "print(f\"Capitalized: {capitalized}\")\n",
        "another_string = input(\"Enter another string: \")\n",
        "is_anagram = sorted(string) == sorted(another_string)\n",
        "print(f\"Is anagram: {is_anagram}\")\n",
        "vowels_removed = ''.join([char for char in string if char.lower() not in 'aeiou'])\n",
        "print(f\"Without vowels: {vowels_removed}\")\n",
        "longest_word_length = max(len(word) for word in string.split())\n",
        "print(f\"Length of the longest word: {longest_word_length}\")"
      ]
    }
  ],
  "metadata": {
    "kernelspec": {
      "display_name": "Python 3 (ipykernel)",
      "language": "python",
      "name": "python3"
    },
    "language_info": {
      "codemirror_mode": {
        "name": "ipython",
        "version": 3
      },
      "file_extension": ".py",
      "mimetype": "text/x-python",
      "name": "python",
      "nbconvert_exporter": "python",
      "pygments_lexer": "ipython3",
      "version": "3.11.7"
    },
    "colab": {
      "provenance": [],
      "include_colab_link": true
    }
  },
  "nbformat": 4,
  "nbformat_minor": 5
}