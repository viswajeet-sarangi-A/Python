{
  "nbformat": 4,
  "nbformat_minor": 0,
  "metadata": {
    "colab": {
      "provenance": [],
      "include_colab_link": true
    },
    "kernelspec": {
      "name": "python3",
      "display_name": "Python 3"
    },
    "language_info": {
      "name": "python"
    }
  },
  "cells": [
    {
      "cell_type": "markdown",
      "metadata": {
        "id": "view-in-github",
        "colab_type": "text"
      },
      "source": [
        "<a href=\"https://colab.research.google.com/github/viswajeet-sarangi-A/Python/blob/main/Lab3.ipynb\" target=\"_parent\"><img src=\"https://colab.research.google.com/assets/colab-badge.svg\" alt=\"Open In Colab\"/></a>"
      ]
    },
    {
      "cell_type": "markdown",
      "source": [
        "Q1) Write a function called check-season, it takes a month parameter and returns the season: Autumn, Winter, Spring or Summer."
      ],
      "metadata": {
        "id": "j6psUBFkCF_H"
      }
    },
    {
      "cell_type": "code",
      "execution_count": null,
      "metadata": {
        "colab": {
          "base_uri": "https://localhost:8080/"
        },
        "id": "jkc_-oBDCAjc",
        "outputId": "7228c9cc-5bff-4da2-bf85-23714290e7b2"
      },
      "outputs": [
        {
          "output_type": "stream",
          "name": "stdout",
          "text": [
            "Enter any month name: September\n",
            "Autumn\n"
          ]
        }
      ],
      "source": [
        "def check_season(month):\n",
        "  if month in ['December', 'January', 'February']:\n",
        "    return 'Winter'\n",
        "  elif month in ['March', 'April', 'May']:\n",
        "    return 'Spring'\n",
        "  elif month in ['June', 'July', 'August']:\n",
        "    return 'Summer'\n",
        "  elif month in ['September', 'October', 'November']:\n",
        "    return 'Autumn'\n",
        "  else:\n",
        "    return 'Invalid month'\n",
        "\n",
        "print(check_season(input(\"Enter any month name: \")))"
      ]
    },
    {
      "cell_type": "markdown",
      "source": [
        "Q2) Write a function called calculate_slope which return the slope of a linear equation"
      ],
      "metadata": {
        "id": "Iy_lAXy-CE-9"
      }
    },
    {
      "cell_type": "code",
      "source": [
        "def calculate_slope(x1, y1, x2, y2):\n",
        "    if x2 - x1 == 0:\n",
        "        return 'Undefined slope'\n",
        "    return (y2 - y1) / (x2 - x1)\n",
        "\n",
        "a=int(input(\"Enter the value of x1: \"))\n",
        "b=int(input(\"Enter the value of y1: \"))\n",
        "c=int(input(\"Enter the value of x2: \"))\n",
        "d=int(input(\"Enter the value of y2: \"))\n",
        "\n",
        "print(calculate_slope(a,b,c,d))"
      ],
      "metadata": {
        "colab": {
          "base_uri": "https://localhost:8080/"
        },
        "id": "C2mITUUZCYyn",
        "outputId": "de906d19-c211-4c83-e3ee-c9a37744844e"
      },
      "execution_count": null,
      "outputs": [
        {
          "output_type": "stream",
          "name": "stdout",
          "text": [
            "Enter the value of x1: 15\n",
            "Enter the value of y1: 5\n",
            "Enter the value of x2: 63\n",
            "Enter the value of y2: 58\n",
            "1.1041666666666667\n"
          ]
        }
      ]
    },
    {
      "cell_type": "markdown",
      "source": [
        "Q3) Quadratic equation is calculated as follows: ax² + bx + c = 0. Write a function which calculates solution set of a quadratic equation, _solve_quadratic_eqn_."
      ],
      "metadata": {
        "id": "HUec4JJLC6lO"
      }
    },
    {
      "cell_type": "code",
      "source": [
        "import cmath\n",
        "def solve_quadratic_eqn(a, b, c):\n",
        "  d = cmath.sqrt(b**2-4*a*c)\n",
        "  root1 = (-b + d) / (2 * a)\n",
        "  root2 = (-b - d) / (2 * a)\n",
        "  return (root1, root2)\n",
        "\n",
        "print(solve_quadratic_eqn(1, -7, 12))"
      ],
      "metadata": {
        "colab": {
          "base_uri": "https://localhost:8080/"
        },
        "id": "FGpfq1B5Co9Q",
        "outputId": "ab3ac0c3-415a-42a3-d60a-439730c3270a"
      },
      "execution_count": null,
      "outputs": [
        {
          "output_type": "stream",
          "name": "stdout",
          "text": [
            "((4+0j), (3+0j))\n"
          ]
        }
      ]
    },
    {
      "cell_type": "markdown",
      "source": [
        "Q4) Declare a function named print_list. It takes a list as a parameter and it prints out each element of the list."
      ],
      "metadata": {
        "id": "ifi2bU1fDpge"
      }
    },
    {
      "cell_type": "code",
      "source": [
        "def print_list(list):\n",
        "  for i in list:\n",
        "    print(i)\n",
        "\n",
        "print_list([10,20,30,40,50])"
      ],
      "metadata": {
        "colab": {
          "base_uri": "https://localhost:8080/"
        },
        "id": "sH_kWu7IDPbX",
        "outputId": "fa2d8a59-ffab-45ad-aeaa-1bd90bb37860"
      },
      "execution_count": null,
      "outputs": [
        {
          "output_type": "stream",
          "name": "stdout",
          "text": [
            "10\n",
            "20\n",
            "30\n",
            "40\n",
            "50\n"
          ]
        }
      ]
    },
    {
      "cell_type": "markdown",
      "source": [
        "Q5) Declare a function named reverse_list. It takes an array as a parameter and it returns the reverse of the array (use loops)."
      ],
      "metadata": {
        "id": "pSABOdWkEKGr"
      }
    },
    {
      "cell_type": "code",
      "source": [
        "def reverse_list(arr):\n",
        "  reversed_list = []\n",
        "  for i in arr:\n",
        "    reversed_list.insert(0, i)\n",
        "  return reversed_list\n",
        "\n",
        "original_list = [1,2,3,4,5]\n",
        "reversed_list = reverse_list(original_list)\n",
        "print(f\"Original list is {original_list}\")\n",
        "print(f\"Reversed list is {reversed_list}\")"
      ],
      "metadata": {
        "colab": {
          "base_uri": "https://localhost:8080/"
        },
        "id": "HAGDj_ooEPu9",
        "outputId": "f952f657-f027-40f0-ef6a-2790f2f5a68e"
      },
      "execution_count": null,
      "outputs": [
        {
          "output_type": "stream",
          "name": "stdout",
          "text": [
            "Original list is [1, 2, 3, 4, 5]\n",
            "Reversed list is [5, 4, 3, 2, 1]\n"
          ]
        }
      ]
    },
    {
      "cell_type": "markdown",
      "source": [
        "Q6) Compute the sum up to n terms in the series 1 - 1/2 + 1/3 - 1/4 + 1/5 -... 1/n where n is a positive integer and input by user."
      ],
      "metadata": {
        "id": "83B28-AkFjt5"
      }
    },
    {
      "cell_type": "code",
      "source": [
        "def sum_series(n):\n",
        "    sum = 0\n",
        "    for i in range(1, n + 1):\n",
        "        sum += ((-1) ** (i + 1)) / i\n",
        "    return sum\n",
        "\n",
        "n = int(input(\"Enter a positive integer: \"))\n",
        "print(sum_series(n))"
      ],
      "metadata": {
        "colab": {
          "base_uri": "https://localhost:8080/"
        },
        "id": "YDHyF6v0FZPW",
        "outputId": "7fdc1c9b-7a80-43bb-975a-b3b55863e2b4"
      },
      "execution_count": null,
      "outputs": [
        {
          "output_type": "stream",
          "name": "stdout",
          "text": [
            "Enter a positive integer: 5\n",
            "0.7833333333333332\n"
          ]
        }
      ]
    },
    {
      "cell_type": "markdown",
      "source": [
        "Q7) Write a program to compute sin x for given x. The user should supply x and a positive integer\n",
        "n. We compute the sine of x using the series and the computation should use all terms in the\n",
        "series up through the term involving xn\n",
        "sin x = x - x3/3! + x5/5! - x7/7! + x9/9! ........"
      ],
      "metadata": {
        "id": "QLz6laHZVdBE"
      }
    },
    {
      "cell_type": "code",
      "source": [
        "import math\n",
        "\n",
        "def compute_sin(x, n):\n",
        "    sin_x = 0\n",
        "    for i in range(n):\n",
        "        sign = (-1) ** i\n",
        "        sin_x += sign * (x ** (2 * i + 1)) / math.factorial(2 * i + 1)\n",
        "    return sin_x\n",
        "\n",
        "x = float(input(\"Enter x: \"))\n",
        "n = int(input(\"Enter the number of terms: \"))\n",
        "print(compute_sin(x, n))\n"
      ],
      "metadata": {
        "colab": {
          "base_uri": "https://localhost:8080/"
        },
        "id": "qnj9gON0VYJ8",
        "outputId": "b396acc5-8f95-4829-b34b-4a3ce4e1d67d"
      },
      "execution_count": null,
      "outputs": [
        {
          "output_type": "stream",
          "name": "stdout",
          "text": [
            "Enter x: 5\n",
            "Enter the number of terms: 8\n",
            "-0.9609213406827259\n"
          ]
        }
      ]
    },
    {
      "cell_type": "markdown",
      "source": [
        "Q8) Write a program to compute cosine of x. The user should supply x and a positive integer n.\n",
        "We compute the cosine of x using the series and the computation should use all terms in the\n",
        "series up through the term involving xn\n",
        "cos x = 1 - x2/2! + x4/4! - x6/6! ...."
      ],
      "metadata": {
        "id": "7kSb39imVpYL"
      }
    },
    {
      "cell_type": "code",
      "source": [
        "import math\n",
        "\n",
        "def compute_cos(x, n):\n",
        "    cos_x = 0\n",
        "    for i in range(n):\n",
        "        sign = (-1) ** i\n",
        "        cos_x += sign * (x ** (2 * i)) / math.factorial(2 * i)\n",
        "    return cos_x\n",
        "\n",
        "x = float(input(\"Enter x: \"))\n",
        "n = int(input(\"Enter the number of terms: \"))\n",
        "print(compute_cos(x, n))\n"
      ],
      "metadata": {
        "colab": {
          "base_uri": "https://localhost:8080/"
        },
        "id": "XzMriUHqVmdg",
        "outputId": "e6c2f626-3996-4101-9e4e-1a9f0cdbc9b9"
      },
      "execution_count": null,
      "outputs": [
        {
          "output_type": "stream",
          "name": "stdout",
          "text": [
            "Enter x: 5\n",
            "Enter the number of terms: 6\n",
            "-0.16274663800705413\n"
          ]
        }
      ]
    },
    {
      "cell_type": "markdown",
      "source": [
        "Q9) Print the pattern upto N Lines:\n",
        "\n",
        ".\n",
        "/_\\\n",
        ".\n",
        "/ \\\n",
        "/___\\\n",
        ".\n",
        "/ \\\n",
        "/ \\\n",
        "/_____\\\n",
        "\n",
        "N=2 N=3 N=4"
      ],
      "metadata": {
        "id": "JtzfooHsV54L"
      }
    },
    {
      "cell_type": "code",
      "source": [
        "def print_pattern(N):\n",
        "    for i in range(1, N+1):\n",
        "        print(' ' * (N-i) + '/' + ' ' * (2*i-2) + '\\\\')\n",
        "    for i in range(1, N+1):\n",
        "        print(' ' * (N-i) + '/' + '_' * (2*i-2) + '\\\\')\n",
        "\n",
        "print(print_pattern(int(input(\"Enter value for n: \"))))\n"
      ],
      "metadata": {
        "colab": {
          "base_uri": "https://localhost:8080/"
        },
        "id": "amuQM2mAVyPe",
        "outputId": "3c7aa8df-4f84-49be-fb52-c6fe02d1e5d0"
      },
      "execution_count": null,
      "outputs": [
        {
          "output_type": "stream",
          "name": "stdout",
          "text": [
            "Enter value for n: 3\n",
            "  /\\\n",
            " /  \\\n",
            "/    \\\n",
            "  /\\\n",
            " /__\\\n",
            "/____\\\n",
            "None\n"
          ]
        }
      ]
    },
    {
      "cell_type": "markdown",
      "source": [
        "Q10) Print a number as a 8 segment display N Lines:\n",
        "\n",
        "_\n",
        "_|\n",
        "|_\n",
        "_\n",
        "_|\n",
        "_|\n",
        "|_|\n",
        "|\n",
        "N=2 N=3 N=4"
      ],
      "metadata": {
        "id": "r93fARJ3Wt11"
      }
    },
    {
      "cell_type": "code",
      "source": [
        "def print_segment_display(N):\n",
        "    for _ in range(N):\n",
        "        print(\" _ \")\n",
        "        print(\"|_|\")\n",
        "        print(\"|_|\")\n",
        "\n",
        "\n",
        "print_segment_display(2)"
      ],
      "metadata": {
        "colab": {
          "base_uri": "https://localhost:8080/"
        },
        "id": "LV2sBPc5V-iv",
        "outputId": "0afe17f5-e9cc-4f29-ad07-ac10f4d6be8b"
      },
      "execution_count": null,
      "outputs": [
        {
          "output_type": "stream",
          "name": "stdout",
          "text": [
            " _ \n",
            "|_|\n",
            "|_|\n",
            " _ \n",
            "|_|\n",
            "|_|\n"
          ]
        }
      ]
    },
    {
      "cell_type": "markdown",
      "source": [
        "Q11) Print the pattern upto N lines:\n",
        "1 2\n",
        "4 3\n",
        "\n",
        "1 2 3\n",
        "8 9 4\n",
        "7 6 5\n",
        "\n",
        "1 2 3 4\n",
        "12 13 14 5\n",
        "11 16 15 6\n",
        "10 9 8 7\n",
        "\n",
        "N=2 N=3 N=4"
      ],
      "metadata": {
        "id": "qpX4x057W03m"
      }
    },
    {
      "cell_type": "code",
      "source": [
        "def print_number_pattern(N):\n",
        "    arr = [[0] * N for _ in range(N)]\n",
        "    num = 1\n",
        "    for i in range(N // 2 + 1):\n",
        "        for j in range(i, N - i):\n",
        "            arr[i][j] = num\n",
        "            num += 1\n",
        "        for j in range(i + 1, N - i):\n",
        "            arr[j][N - i - 1] = num\n",
        "            num += 1\n",
        "        for j in range(N - i - 2, i - 1, -1):\n",
        "            arr[N - i - 1][j] = num\n",
        "            num += 1\n",
        "        for j in range(N - i - 2, i, -1):\n",
        "            arr[j][i] = num\n",
        "            num += 1\n",
        "    for row in arr:\n",
        "        print(' '.join(map(str, row)))\n",
        "\n",
        "print_number_pattern(4)\n"
      ],
      "metadata": {
        "colab": {
          "base_uri": "https://localhost:8080/"
        },
        "id": "jgxRKB2LW93S",
        "outputId": "95de75fa-0bfb-4501-842d-eb2eca07d3e0"
      },
      "execution_count": null,
      "outputs": [
        {
          "output_type": "stream",
          "name": "stdout",
          "text": [
            "1 2 3 4\n",
            "12 13 14 5\n",
            "11 16 15 6\n",
            "10 9 8 7\n"
          ]
        }
      ]
    },
    {
      "cell_type": "markdown",
      "source": [
        "Q12)Write a python script that displays the following table\n",
        "1 1 1 1 1\n",
        "2 1 2 4 8\n",
        "3 1 3 9 27\n",
        "4 1 4 16 64\n",
        "5 1 5 25 125"
      ],
      "metadata": {
        "id": "Ij51BRw0XUKy"
      }
    },
    {
      "cell_type": "code",
      "source": [
        "def display_table():\n",
        "    for i in range(1, 6):\n",
        "        print(f\"{i} {1} {i} {i**2} {i**3}\")\n",
        "\n",
        "display_table()\n"
      ],
      "metadata": {
        "colab": {
          "base_uri": "https://localhost:8080/"
        },
        "id": "FipxQxogXX3w",
        "outputId": "277798b6-2ee7-4b1a-a7a0-3f0173f0eedb"
      },
      "execution_count": null,
      "outputs": [
        {
          "output_type": "stream",
          "name": "stdout",
          "text": [
            "1 1 1 1 1\n",
            "2 1 2 4 8\n",
            "3 1 3 9 27\n",
            "4 1 4 16 64\n",
            "5 1 5 25 125\n"
          ]
        }
      ]
    },
    {
      "cell_type": "markdown",
      "source": [
        "Q13) Write a Java program to calculate Sum & Average of an integer array."
      ],
      "metadata": {
        "id": "BCoFUhszXzeJ"
      }
    },
    {
      "cell_type": "code",
      "source": [
        "def calculate_sum_and_average(arr):\n",
        "    total = sum(arr)\n",
        "    average = total / len(arr)\n",
        "    return total, average\n",
        "\n",
        "array = [1, 2, 3, 4, 5]\n",
        "total, average = calculate_sum_and_average(array)\n",
        "print(f\"Sum: {total}, Average: {average}\")\n"
      ],
      "metadata": {
        "colab": {
          "base_uri": "https://localhost:8080/"
        },
        "id": "VVW7PrbrX1Y2",
        "outputId": "63a7d4c2-920a-4312-cb93-62b42afa4be0"
      },
      "execution_count": null,
      "outputs": [
        {
          "output_type": "stream",
          "name": "stdout",
          "text": [
            "Sum: 15, Average: 3.0\n"
          ]
        }
      ]
    },
    {
      "cell_type": "markdown",
      "source": [
        "Q14) Write a Java program to implement stack using array"
      ],
      "metadata": {
        "id": "99IOZbm0X6qM"
      }
    },
    {
      "cell_type": "code",
      "source": [
        "class Stack:\n",
        "    def __init__(self):\n",
        "        self.stack = []\n",
        "\n",
        "    def push(self, item):\n",
        "        self.stack.append(item)\n",
        "\n",
        "    def pop(self):\n",
        "        if not self.is_empty():\n",
        "            return self.stack.pop()\n",
        "        else:\n",
        "            return \"Stack is empty\"\n",
        "\n",
        "    def peek(self):\n",
        "        if not self.is_empty():\n",
        "            return self.stack[-1]\n",
        "        else:\n",
        "            return \"Stack is empty\"\n",
        "\n",
        "    def is_empty(self):\n",
        "        return len(self.stack) == 0\n",
        "\n",
        "    def display(self):\n",
        "        return self.stack\n",
        "\n",
        "s = Stack()\n",
        "s.push(1)\n",
        "s.push(2)\n",
        "s.push(3)\n",
        "print(\"Stack after pushes:\", s.display())\n",
        "print(\"Pop:\", s.pop())\n",
        "print(\"Stack after pop:\", s.display())\n"
      ],
      "metadata": {
        "colab": {
          "base_uri": "https://localhost:8080/"
        },
        "id": "TGw0IgBLYHRX",
        "outputId": "3cebb034-a32b-40f7-e7c9-b222dc1f88ec"
      },
      "execution_count": null,
      "outputs": [
        {
          "output_type": "stream",
          "name": "stdout",
          "text": [
            "Stack after pushes: [1, 2, 3]\n",
            "Pop: 3\n",
            "Stack after pop: [1, 2]\n"
          ]
        }
      ]
    },
    {
      "cell_type": "markdown",
      "source": [
        "Q15) Write a Java program to implement Queue using array."
      ],
      "metadata": {
        "id": "X_HbmMN9Y2An"
      }
    },
    {
      "cell_type": "code",
      "source": [
        "class Queue:\n",
        "    def __init__(self):\n",
        "        self.queue = []\n",
        "\n",
        "    def enqueue(self, item):\n",
        "        self.queue.append(item)\n",
        "\n",
        "    def dequeue(self):\n",
        "        if not self.is_empty():\n",
        "            return self.queue.pop(0)\n",
        "        else:\n",
        "            return \"Queue is empty\"\n",
        "\n",
        "    def is_empty(self):\n",
        "        return len(self.queue) == 0\n",
        "\n",
        "    def display(self):\n",
        "        return self.queue\n",
        "\n",
        "q = Queue()\n",
        "q.enqueue(1)\n",
        "q.enqueue(2)\n",
        "q.enqueue(3)\n",
        "print(\"Queue after enqueues:\", q.display())\n",
        "print(\"Dequeue:\", q.dequeue())\n",
        "print(\"Queue after dequeue:\", q.display())\n"
      ],
      "metadata": {
        "colab": {
          "base_uri": "https://localhost:8080/"
        },
        "id": "8IO8W3M-Y0Qp",
        "outputId": "df93d991-9d77-4826-e2da-0d0010b4059d"
      },
      "execution_count": null,
      "outputs": [
        {
          "output_type": "stream",
          "name": "stdout",
          "text": [
            "Queue after enqueues: [1, 2, 3]\n",
            "Dequeue: 1\n",
            "Queue after dequeue: [2, 3]\n"
          ]
        }
      ]
    },
    {
      "cell_type": "markdown",
      "source": [
        "Q16)Write a Java program to calculate Sum of two 2-dimensional arrays."
      ],
      "metadata": {
        "id": "69CPUOEtaTYb"
      }
    },
    {
      "cell_type": "code",
      "source": [
        "def sum_of_2d_arrays(arr1, arr2):\n",
        "    rows = len(arr1)\n",
        "    cols = len(arr1[0])\n",
        "    result = [[0 for _ in range(cols)] for _ in range(rows)]\n",
        "    for i in range(rows):\n",
        "        for j in range(cols):\n",
        "            result[i][j] = arr1[i][j] + arr2[i][j]\n",
        "    return result\n",
        "\n",
        "array1 = [[1, 2], [3, 4]]\n",
        "array2 = [[5, 6], [7, 8]]\n",
        "sum_array = sum_of_2d_arrays(array1, array2)\n",
        "print(\"Sum of 2D arrays:\", sum_array)\n"
      ],
      "metadata": {
        "colab": {
          "base_uri": "https://localhost:8080/"
        },
        "id": "tG0T6D1xaaiJ",
        "outputId": "efe201a2-8e9d-4083-a684-8d55b94ffc65"
      },
      "execution_count": null,
      "outputs": [
        {
          "output_type": "stream",
          "name": "stdout",
          "text": [
            "Sum of 2D arrays: [[6, 8], [10, 12]]\n"
          ]
        }
      ]
    },
    {
      "cell_type": "markdown",
      "source": [
        "Q17) Write a Java program to find the range of a 1D array."
      ],
      "metadata": {
        "id": "pvPnwe8uahFE"
      }
    },
    {
      "cell_type": "code",
      "source": [
        "def find_range(arr):\n",
        "    return max(arr) - min(arr)\n",
        "\n",
        "array = [1, 2, 3, 4, 5]\n",
        "range_value = find_range(array)\n",
        "print(f\"Range of the array: {range_value}\")\n"
      ],
      "metadata": {
        "colab": {
          "base_uri": "https://localhost:8080/"
        },
        "id": "KO9bOR9Famws",
        "outputId": "2f362dfe-4ca0-4939-c07b-92a97256ca87"
      },
      "execution_count": null,
      "outputs": [
        {
          "output_type": "stream",
          "name": "stdout",
          "text": [
            "Range of the array: 4\n"
          ]
        }
      ]
    },
    {
      "cell_type": "markdown",
      "source": [
        "Q18) Write a Java program to search an element in an array"
      ],
      "metadata": {
        "id": "FL-8HXBdawdd"
      }
    },
    {
      "cell_type": "code",
      "source": [
        "def search_element(arr, element):\n",
        "    if element in arr:\n",
        "        return arr.index(element)\n",
        "    else:\n",
        "        return -1\n",
        "\n",
        "array = [1, 2, 3, 4, 5]\n",
        "element = 3\n",
        "index = search_element(array, element)\n",
        "if index != -1:\n",
        "    print(f\"Element found at index {index}\")\n",
        "else:\n",
        "    print(\"Element not found\")\n"
      ],
      "metadata": {
        "colab": {
          "base_uri": "https://localhost:8080/"
        },
        "id": "5frzNCJ5aqmx",
        "outputId": "15b19a67-cd2d-406c-cd65-9d9e2dba3e9b"
      },
      "execution_count": null,
      "outputs": [
        {
          "output_type": "stream",
          "name": "stdout",
          "text": [
            "Element found at index 2\n"
          ]
        }
      ]
    },
    {
      "cell_type": "markdown",
      "source": [
        "Q19)Write a Java program to find the sum of even numbers in an integer arra"
      ],
      "metadata": {
        "id": "vTANdfxva4og"
      }
    },
    {
      "cell_type": "code",
      "source": [
        "def sum_of_even_numbers(arr):\n",
        "    return sum(x for x in arr if x % 2 == 0)\n",
        "\n",
        "array = [1, 2, 3, 4, 5]\n",
        "even_sum = sum_of_even_numbers(array)\n",
        "print(f\"Sum of even numbers: {even_sum}\")\n"
      ],
      "metadata": {
        "colab": {
          "base_uri": "https://localhost:8080/"
        },
        "id": "5x8sHtU0a-RM",
        "outputId": "d98406d4-2a0b-4b5c-dec1-48683fb9d840"
      },
      "execution_count": null,
      "outputs": [
        {
          "output_type": "stream",
          "name": "stdout",
          "text": [
            "Sum of even numbers: 6\n"
          ]
        }
      ]
    },
    {
      "cell_type": "markdown",
      "source": [
        "Q20) Write a Java program to find the sum of diagonal elements in a 2D array."
      ],
      "metadata": {
        "id": "vPLdR16kbDEa"
      }
    },
    {
      "cell_type": "code",
      "source": [
        "def sum_of_diagonal_elements(arr):\n",
        "    n = len(arr)\n",
        "    return sum(arr[i][i] for i in range(n))\n",
        "\n",
        "# Example usage\n",
        "array = [\n",
        "    [1, 2, 3],\n",
        "    [4, 5, 6],\n",
        "    [7, 8, 9]\n",
        "]\n",
        "diagonal_sum = sum_of_diagonal_elements(array)\n",
        "print(f\"Sum of diagonal elements: {diagonal_sum}\")\n"
      ],
      "metadata": {
        "colab": {
          "base_uri": "https://localhost:8080/"
        },
        "id": "xvnDHWf_bBkR",
        "outputId": "8c625c1e-5038-417a-97c6-558ebb2b0f88"
      },
      "execution_count": null,
      "outputs": [
        {
          "output_type": "stream",
          "name": "stdout",
          "text": [
            "Sum of diagonal elements: 15\n"
          ]
        }
      ]
    }
  ]
}