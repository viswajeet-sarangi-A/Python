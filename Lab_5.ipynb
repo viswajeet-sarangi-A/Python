{
  "cells": [
    {
      "cell_type": "markdown",
      "metadata": {
        "id": "view-in-github",
        "colab_type": "text"
      },
      "source": [
        "<a href=\"https://colab.research.google.com/github/viswajeet-sarangi-A/Python/blob/main/Lab_5.ipynb\" target=\"_parent\"><img src=\"https://colab.research.google.com/assets/colab-badge.svg\" alt=\"Open In Colab\"/></a>"
      ]
    },
    {
      "cell_type": "code",
      "execution_count": null,
      "id": "d875a347-63e7-4c3c-9ac1-0ebce02d3f1a",
      "metadata": {
        "id": "d875a347-63e7-4c3c-9ac1-0ebce02d3f1a",
        "outputId": "c21bb369-d257-4312-c753-85e84fcf839e"
      },
      "outputs": [
        {
          "name": "stdout",
          "output_type": "stream",
          "text": [
            "Sorted ages: [19, 19, 20, 22, 24, 24, 24, 25, 25, 26]\n",
            "Min age: 19\n",
            "Max age: 26\n",
            "Ages after adding min and max again: [19, 19, 20, 22, 24, 24, 24, 25, 25, 26, 19, 26]\n",
            "Median age: 24.0\n",
            "Average age: 22.75\n",
            "Range of ages: 7\n",
            "Difference between min and average age: 3.75\n",
            "Difference between max and average age: 3.25\n"
          ]
        }
      ],
      "source": [
        "#Lists , tuples , sets , dictionaries\n",
        "1.The following is a list of 10 students ages:\n",
        "# List of student ages\n",
        "ages = [19, 22, 19, 24, 20, 25, 26, 24, 25, 24]\n",
        "# I. Sort the list and find the min and max age\n",
        "ages.sort()\n",
        "min_age = ages[0]\n",
        "max_age = ages[-1]\n",
        "print(f\"Sorted ages: {ages}\")\n",
        "# II. Add the min age and the max age again to the list\n",
        "ages.extend([min_age, max_age])\n",
        "# III. Find the median age\n",
        "n = len(ages)\n",
        "if n % 2 == 0:\n",
        "    median_age = (ages[n // 2 - 1] + ages[n // 2]) / 2\n",
        "else:\n",
        "    median_age = ages[n // 2]\n",
        "# IV. Find the average age\n",
        "average_age = sum(ages) / len(ages)\n",
        "# V. Find the range of the ages\n",
        "age_range = max_age - min_age\n",
        "# VI. Compare the value of (min - average) and (max - average), use abs() method\n",
        "min_avg_diff = abs(min_age - average_age)\n",
        "max_avg_diff = abs(max_age - average_age)\n",
        "print(f\"Min age: {min_age}\")\n",
        "print(f\"Max age: {max_age}\")\n",
        "print(f\"Ages after adding min and max again: {ages}\")\n",
        "print(f\"Median age: {median_age}\")\n",
        "print(f\"Average age: {average_age}\")\n",
        "print(f\"Range of ages: {age_range}\")\n",
        "print(f\"Difference between min and average age: {min_avg_diff}\")\n",
        "print(f\"Difference between max and average age: {max_avg_diff}\")"
      ]
    },
    {
      "cell_type": "code",
      "execution_count": null,
      "id": "b193e6c4-d0d3-411e-a22a-00593960a829",
      "metadata": {
        "id": "b193e6c4-d0d3-411e-a22a-00593960a829",
        "outputId": "37c2504f-52e8-4a12-afd9-0750583c8447"
      },
      "outputs": [
        {
          "name": "stdout",
          "output_type": "stream",
          "text": [
            "Python\n",
            "Numpy\n",
            "Pandas\n",
            "Django\n",
            "Flask\n"
          ]
        }
      ],
      "source": [
        "2.WAP to iterate through the list,['Python', 'Numpy', 'Pandas', 'Django', 'Flask'] using a for loop and print out the items.\n",
        "items = ['Python', 'Numpy', 'Pandas', 'Django', 'Flask']\n",
        "for item in items:\n",
        "    print(item)"
      ]
    },
    {
      "cell_type": "code",
      "execution_count": null,
      "id": "f91c3db3-05bf-4449-8eab-ad4def54504d",
      "metadata": {
        "id": "f91c3db3-05bf-4449-8eab-ad4def54504d",
        "outputId": "6dffd808-ca7e-4e52-e047-5b38eea56096"
      },
      "outputs": [
        {
          "name": "stdout",
          "output_type": "stream",
          "text": [
            "Food Stuff Tuple: ('apple', 'banana', 'cherry', 'carrot', 'broccoli', 'spinach', 'milk', 'cheese', 'yogurt')\n",
            "Food Stuff List: ['apple', 'banana', 'cherry', 'carrot', 'broccoli', 'spinach', 'milk', 'cheese', 'yogurt']\n",
            "Middle Item(s): broccoli\n",
            "First Three Items: ['apple', 'banana', 'cherry']\n",
            "Last Three Items: ['milk', 'cheese', 'yogurt']\n"
          ]
        }
      ],
      "source": [
        "3.Create fruits, vegetables and animal products tuples3\n",
        "# Tuples\n",
        "fruits = ('apple', 'banana', 'cherry')\n",
        "vegetables = ('carrot', 'broccoli', 'spinach')\n",
        "animal_products = ('milk', 'cheese', 'yogurt')\n",
        "# I. Join the three tuples\n",
        "food_stuff_tp = fruits + vegetables + animal_products\n",
        "print(\"Food Stuff Tuple:\", food_stuff_tp)\n",
        "# II. Convert tuple to list\n",
        "food_stuff_lt = list(food_stuff_tp)\n",
        "print(\"Food Stuff List:\", food_stuff_lt)\n",
        "# III. Slice out the middle item(s)\n",
        "middle_index = len(food_stuff_lt) // 2\n",
        "if len(food_stuff_lt) % 2 == 0:\n",
        "    middle_items = food_stuff_lt[middle_index - 1:middle_index + 1]\n",
        "else:\n",
        "    middle_items = food_stuff_lt[middle_index]\n",
        "print(\"Middle Item(s):\", middle_items)\n",
        "# IV. Slice out the first three items and the last three items\n",
        "first_three = food_stuff_lt[:3]\n",
        "last_three = food_stuff_lt[-3:]\n",
        "print(\"First Three Items:\", first_three)\n",
        "print(\"Last Three Items:\", last_three)\n",
        "# V. Delete the food_stuff_tp tuple\n",
        "del food_stuff_tp"
      ]
    },
    {
      "cell_type": "code",
      "execution_count": null,
      "id": "0deb4534-5c1c-4716-b263-02bdf11bfd5b",
      "metadata": {
        "id": "0deb4534-5c1c-4716-b263-02bdf11bfd5b",
        "outputId": "962c0714-db1a-44d1-a60c-3f81dea3d64a"
      },
      "outputs": [
        {
          "name": "stdout",
          "output_type": "stream",
          "text": [
            "Length of it_companies: 7\n",
            "Updated it_companies after adding 'Twitter': {'Oracle', 'Microsoft', 'IBM', 'Google', 'Facebook', 'Twitter', 'Amazon', 'Apple'}\n",
            "Updated it_companies after adding multiple companies: {'Microsoft', 'IBM', 'Facebook', 'Apple', 'Netflix', 'Oracle', 'Google', 'Tesla', 'Amazon', 'Samsung', 'Twitter'}\n",
            "Updated it_companies after removing 'Oracle': {'Microsoft', 'IBM', 'Facebook', 'Apple', 'Netflix', 'Google', 'Tesla', 'Amazon', 'Samsung', 'Twitter'}\n"
          ]
        }
      ],
      "source": [
        "4.Create a set given below\n",
        "#it_companies = {'Facebook', 'Google', 'Microsoft', 'Apple', 'IBM', 'Oracle', 'Amazon'}\n",
        "A = {19, 22, 24, 20, 25, 26}\n",
        "B = {19, 22, 20, 25, 26, 24, 28, 27}\n",
        "# Part 1: Find the length of the set it_companies\n",
        "it_companies = {'Facebook', 'Google', 'Microsoft', 'Apple', 'IBM', 'Oracle', 'Amazon'}\n",
        "print(\"Length of it_companies:\", len(it_companies))\n",
        "# Part 2: Add 'Twitter' to it_companies\n",
        "it_companies.add('Twitter')\n",
        "print(\"Updated it_companies after adding 'Twitter':\", it_companies)\n",
        "# Part 3: Insert multiple IT companies at once to the set it_companies\n",
        "it_companies.update(['Tesla', 'Netflix', 'Samsung'])\n",
        "print(\"Updated it_companies after adding multiple companies:\", it_companies)\n",
        "# Part 4: Remove one of the companies from the set it_companies\n",
        "it_companies.remove('Oracle')  # you can also use discard()\n",
        "print(\"Updated it_companies after removing 'Oracle':\", it_companies)\n",
        "# Part 5: Difference between remove and discard\n",
        "# `remove` raises an error if the element is not found\n",
        "# `discard` does not raise an error if the element is not found"
      ]
    },
    {
      "cell_type": "code",
      "execution_count": null,
      "id": "07beadc0-06d4-4839-9ea4-2e8e7ff7ee35",
      "metadata": {
        "id": "07beadc0-06d4-4839-9ea4-2e8e7ff7ee35",
        "outputId": "07dac613-fb3d-4822-f7d4-3b963e05e28e"
      },
      "outputs": [
        {
          "name": "stdout",
          "output_type": "stream",
          "text": [
            "Union of A and B: {19, 20, 22, 24, 25, 26, 27, 28}\n",
            "Intersection of A and B: {19, 20, 22, 24, 25, 26}\n",
            "Is A a subset of B? True\n",
            "Are A and B disjoint sets? False\n",
            "Updated A after joining with B: {19, 20, 22, 24, 25, 26, 27, 28}\n",
            "Updated B after joining with A: {19, 20, 22, 24, 25, 26, 27, 28}\n",
            "Symmetric difference between A and B: set()\n",
            "Sets A and B have been deleted.\n"
          ]
        }
      ],
      "source": [
        "5.From the above sets A and B\n",
        "A = {19, 22, 24, 20, 25, 26}\n",
        "B = {19, 22, 20, 25, 26, 24, 28, 27}\n",
        "# Part 1: Join A and B\n",
        "A_B_union = A.union(B)\n",
        "print(\"Union of A and B:\", A_B_union)\n",
        "# Part 2: Find A intersection B\n",
        "A_B_intersection = A.intersection(B)\n",
        "print(\"Intersection of A and B:\", A_B_intersection)\n",
        "# Part 3: Is A subset of B\n",
        "is_A_subset_B = A.issubset(B)\n",
        "print(\"Is A a subset of B?\", is_A_subset_B)\n",
        "# Part 4: Are A and B disjoint sets\n",
        "are_A_B_disjoint = A.isdisjoint(B)\n",
        "print(\"Are A and B disjoint sets?\", are_A_B_disjoint)\n",
        "# Part 5: Join A with B and B with A\n",
        "A.update(B)\n",
        "print(\"Updated A after joining with B:\", A)\n",
        "B.update(A)\n",
        "print(\"Updated B after joining with A:\", B)\n",
        "symmetric_diff = A.symmetric_difference(B)\n",
        "print(\"Symmetric difference between A and B:\", symmetric_diff)\n",
        "# Part 7: Delete the sets completely\n",
        "del A\n",
        "del B\n",
        "print(\"Sets A and B have been deleted.\")"
      ]
    },
    {
      "cell_type": "code",
      "execution_count": null,
      "id": "8fb1fa15-be89-4ee4-9635-f26bb5a2b226",
      "metadata": {
        "id": "8fb1fa15-be89-4ee4-9635-f26bb5a2b226",
        "outputId": "b48f1e2f-6af8-4744-e3db-edbb5ba66872"
      },
      "outputs": [
        {
          "name": "stdout",
          "output_type": "stream",
          "text": [
            "Dog dictionary: {'name': 'Buddy', 'color': 'Brown', 'breed': 'Labrador', 'legs': 4, 'age': 5}\n"
          ]
        }
      ],
      "source": [
        "6.WAP to create an empty dictionary called dog.Add name, color, breed, legs, age to the dog dictionary\n",
        "dog = {}\n",
        "dog['name'] = 'Buddy'\n",
        "dog['color'] = 'Brown'\n",
        "dog['breed'] = 'Labrador'\n",
        "dog['legs'] = 4\n",
        "dog['age'] = 5\n",
        "print(\"Dog dictionary:\", dog)"
      ]
    },
    {
      "cell_type": "code",
      "execution_count": null,
      "id": "9d96fa68-47da-478f-a584-9f6e92a129c3",
      "metadata": {
        "id": "9d96fa68-47da-478f-a584-9f6e92a129c3",
        "outputId": "4552c638-40b3-453b-c90e-ff59b7652819"
      },
      "outputs": [
        {
          "name": "stdout",
          "output_type": "stream",
          "text": [
            "Length of student dictionary: 9\n",
            "Skills value: ['Python', 'Java']\n",
            "Data type of skills: <class 'list'>\n",
            "Updated skills in student dictionary: ['Python', 'Java', 'C++', 'JavaScript']\n",
            "Keys in student dictionary: ['first_name', 'last_name', 'gender', 'age', 'marital_status', 'skills', 'country', 'city', 'address']\n",
            "Values in student dictionary: ['John', 'Doe', 'Male', 21, 'Single', ['Python', 'Java', 'C++', 'JavaScript'], 'USA', 'New York', '123 Main St']\n",
            "Student dictionary as a list of tuples: [('first_name', 'John'), ('last_name', 'Doe'), ('gender', 'Male'), ('age', 21), ('marital_status', 'Single'), ('skills', ['Python', 'Java', 'C++', 'JavaScript']), ('country', 'USA'), ('city', 'New York'), ('address', '123 Main St')]\n",
            "Updated student dictionary after deleting 'marital_status': {'first_name': 'John', 'last_name': 'Doe', 'gender': 'Male', 'age': 21, 'skills': ['Python', 'Java', 'C++', 'JavaScript'], 'country': 'USA', 'city': 'New York', 'address': '123 Main St'}\n",
            "Student dictionary has been deleted.\n"
          ]
        }
      ],
      "source": [
        "7.WAP to create a student dictionary and add first_name, last_name, gender, age, marital status, skills, country, city and address as keys for the dictionary\n",
        "student = {\n",
        "    'first_name': 'John',\n",
        "    'last_name': 'Doe',\n",
        "    'gender': 'Male',\n",
        "    'age': 21,\n",
        "    'marital_status': 'Single',\n",
        "    'skills': ['Python', 'Java'],\n",
        "    'country': 'USA',\n",
        "    'city': 'New York',\n",
        "    'address': '123 Main St'\n",
        "}\n",
        "# Part 1: Get the length of the student dictionary\n",
        "print(\"Length of student dictionary:\", len(student))\n",
        "# Part 2: Get the value of skills and check the data type\n",
        "skills_value = student['skills']\n",
        "print(\"Skills value:\", skills_value)\n",
        "print(\"Data type of skills:\", type(skills_value))\n",
        "# Part 3: Modify the skills values by adding one or two skills\n",
        "student['skills'].append('C++')\n",
        "student['skills'].append('JavaScript')\n",
        "print(\"Updated skills in student dictionary:\", student['skills'])\n",
        "# Part 4: Get the dictionary keys as a list\n",
        "keys_list = list(student.keys())\n",
        "print(\"Keys in student dictionary:\", keys_list)\n",
        "# Part 5: Get the dictionary values as a list\n",
        "values_list = list(student.values())\n",
        "print(\"Values in student dictionary:\", values_list)\n",
        "# Part 6: Change the dictionary to a list of tuples using items() method\n",
        "student_items = list(student.items())\n",
        "print(\"Student dictionary as a list of tuples:\", student_items)\n",
        "# Part 7: Delete one of the items in the dictionary\n",
        "student.pop('marital_status')\n",
        "print(\"Updated student dictionary after deleting 'marital_status':\", student)\n",
        "# Part 8: Delete the student dictionary\n",
        "del student\n",
        "print(\"Student dictionary has been deleted.\")"
      ]
    },
    {
      "cell_type": "code",
      "execution_count": null,
      "id": "4883f7b0-965b-49ba-a0a1-dfa853d6ca0f",
      "metadata": {
        "id": "4883f7b0-965b-49ba-a0a1-dfa853d6ca0f",
        "outputId": "15a2ebc3-b130-452c-8fb0-971698fcad6f"
      },
      "outputs": [
        {
          "name": "stdout",
          "output_type": "stream",
          "text": [
            "Middle skill in the skills list: Node\n",
            "The person has 'Python' skill.\n",
            "He is a backend developer\n",
            "Asabeneh Yetayeh lives in Finland. He is married.\n"
          ]
        }
      ],
      "source": [
        "8.WAP to create a person dictionary.\n",
        "person = {\n",
        "    'first_name': 'Asabeneh',\n",
        "    'last_name': 'Yetayeh',\n",
        "    'age': 250,\n",
        "    'country': 'Finland',\n",
        "    'is_married': True,\n",
        "    'skills': ['JavaScript', 'React', 'Node', 'MongoDB', 'Python'],\n",
        "    'address': {\n",
        "        'street': 'Space street',\n",
        "        'zipcode': '02210'\n",
        "    }\n",
        "}\n",
        "# Part 1: Check if the person dictionary has 'skills' key, if so print the middle skill\n",
        "if 'skills' in person:\n",
        "    middle_index = len(person['skills']) // 2\n",
        "    print(\"Middle skill in the skills list:\", person['skills'][middle_index])\n",
        "# Part 2: Check if the person has 'Python' skill and print out the result\n",
        "if 'skills' in person and 'Python' in person['skills']:\n",
        "    print(\"The person has 'Python' skill.\")\n",
        "# Part 3: Determine the developer type based on skills\n",
        "if person['skills'] == ['JavaScript', 'React']:\n",
        "    print(\"He is a front end developer\")\n",
        "elif all(skill in person['skills'] for skill in ['Node', 'Python', 'MongoDB']):\n",
        "    print(\"He is a backend developer\")\n",
        "elif all(skill in person['skills'] for skill in ['React', 'Node', 'MongoDB']):\n",
        "    print(\"He is a fullstack developer\")\n",
        "else:\n",
        "    print(\"Unknown title\")\n",
        "# Part 4: Print the marital status and country if conditions are met\n",
        "if person['is_married'] and person['country'] == 'Finland':\n",
        "    print(f\"{person['first_name']} {person['last_name']} lives in {person['country']}. He is married.\")"
      ]
    },
    {
      "cell_type": "code",
      "execution_count": null,
      "id": "9c1c4b37-3237-4759-820f-1c83eca5918e",
      "metadata": {
        "id": "9c1c4b37-3237-4759-820f-1c83eca5918e"
      },
      "outputs": [],
      "source": [
        "9.WAP to print the season name of the year based on the month number using a dictionary.\n",
        "month_season = {\n",
        "    1: 'Winter',\n",
        "    2: 'Winter',\n",
        "    3: 'Spring',\n",
        "    4: 'Spring',\n",
        "    5: 'Spring',\n",
        "    6: 'Summer',\n",
        "    7: 'Summer',\n",
        "    8: 'Summer',\n",
        "    9: 'Autumn',\n",
        "    10: 'Autumn',\n",
        "    11: 'Autumn',\n",
        "    12: 'Winter'\n",
        "}\n",
        "month = int(input(\"Enter the month number (1-12): \"))\n",
        "print(\"Season for month\", month, \"is:\", month_season.get(month, \"Invalid month number\"))"
      ]
    },
    {
      "cell_type": "code",
      "execution_count": null,
      "id": "8e248bf4-bf37-4696-8a3e-37fe4e2b37bf",
      "metadata": {
        "id": "8e248bf4-bf37-4696-8a3e-37fe4e2b37bf"
      },
      "outputs": [],
      "source": []
    },
    {
      "cell_type": "code",
      "execution_count": null,
      "id": "09483e1e-e1da-4cce-997a-b55dd05e1182",
      "metadata": {
        "id": "09483e1e-e1da-4cce-997a-b55dd05e1182"
      },
      "outputs": [],
      "source": []
    }
  ],
  "metadata": {
    "kernelspec": {
      "display_name": "Python 3 (ipykernel)",
      "language": "python",
      "name": "python3"
    },
    "language_info": {
      "codemirror_mode": {
        "name": "ipython",
        "version": 3
      },
      "file_extension": ".py",
      "mimetype": "text/x-python",
      "name": "python",
      "nbconvert_exporter": "python",
      "pygments_lexer": "ipython3",
      "version": "3.11.7"
    },
    "colab": {
      "provenance": [],
      "include_colab_link": true
    }
  },
  "nbformat": 4,
  "nbformat_minor": 5
}