{
  "nbformat": 4,
  "nbformat_minor": 0,
  "metadata": {
    "colab": {
      "provenance": [],
      "include_colab_link": true
    },
    "kernelspec": {
      "name": "python3",
      "display_name": "Python 3"
    },
    "language_info": {
      "name": "python"
    }
  },
  "cells": [
    {
      "cell_type": "markdown",
      "metadata": {
        "id": "view-in-github",
        "colab_type": "text"
      },
      "source": [
        "<a href=\"https://colab.research.google.com/github/viswajeet-sarangi-A/Python/blob/main/Lab1.ipynb\" target=\"_parent\"><img src=\"https://colab.research.google.com/assets/colab-badge.svg\" alt=\"Open In Colab\"/></a>"
      ]
    },
    {
      "cell_type": "markdown",
      "source": [
        "Q1 Celsius to Farenheit"
      ],
      "metadata": {
        "id": "laMrNmsPpAlG"
      }
    },
    {
      "cell_type": "code",
      "execution_count": null,
      "metadata": {
        "colab": {
          "base_uri": "https://localhost:8080/"
        },
        "id": "RbAQLNE0hvcY",
        "outputId": "99faf0e7-7dd3-4f58-cf39-c27d83f98cd0"
      },
      "outputs": [
        {
          "output_type": "stream",
          "name": "stdout",
          "text": [
            "Enter temperature in celsius: 47\n",
            "47.00 Celsius is equal to 116.60 farenheit\n"
          ]
        }
      ],
      "source": [
        "celsius = float(input(\"Enter temperature in celsius: \"))\n",
        "farenheit = (celsius * 1.8) + 32\n",
        "print(\"%.2f Celsius is equal to %.2f farenheit\"%(celsius,farenheit))"
      ]
    },
    {
      "cell_type": "markdown",
      "source": [
        "Q2 Swap two numbers"
      ],
      "metadata": {
        "id": "NwLnN0Y-pRMX"
      }
    },
    {
      "cell_type": "code",
      "source": [
        "num1 = int(input(\"Enter first number: \"))\n",
        "num2 =int (input(\"Enter second number: \"))\n",
        "\n",
        "print(\"Before Swapping numbers are num1: %d, num2: %d: \" %(num1,num2))\n",
        "temp = num1\n",
        "num1 = num2\n",
        "num2 = temp\n",
        "\n",
        "print(\"After Swapping numbers are num1: %d, num2: %d: \" %(num1,num2))"
      ],
      "metadata": {
        "colab": {
          "base_uri": "https://localhost:8080/"
        },
        "id": "YQGOQi3clGZ9",
        "outputId": "a06236d6-c21d-48df-8ed4-4b79abf3960a"
      },
      "execution_count": null,
      "outputs": [
        {
          "output_type": "stream",
          "name": "stdout",
          "text": [
            "Enter first number: 50\n",
            "Enter second number: 25\n",
            "Before Swapping numbers are num1: 50, num2: 25: \n",
            "After Swapping numbers are num1: 25, num2: 50: \n"
          ]
        }
      ]
    },
    {
      "cell_type": "markdown",
      "source": [
        "Q3: Given year is leap year or not"
      ],
      "metadata": {
        "id": "Qu5E__p8sYxG"
      }
    },
    {
      "cell_type": "code",
      "source": [
        "year = int(input(\"Enter a year \"))\n",
        "if (year % 4 == 0 and year % 100 != 0) or (year % 400 == 0):\n",
        "    print(f\"{year} is a leap year.\")\n",
        "else:\n",
        "    print(f\"{year} is not a leap year.\")"
      ],
      "metadata": {
        "id": "G22Idhrlp049",
        "colab": {
          "base_uri": "https://localhost:8080/"
        },
        "outputId": "729dcf53-6676-4858-d00c-60685f486eb8"
      },
      "execution_count": null,
      "outputs": [
        {
          "output_type": "stream",
          "name": "stdout",
          "text": [
            "Enter a year 2024\n",
            "2024 is a leap year.\n"
          ]
        }
      ]
    },
    {
      "cell_type": "markdown",
      "source": [
        "Q4. Display reverse of a number"
      ],
      "metadata": {
        "id": "RRQCIrhuhs9Q"
      }
    },
    {
      "cell_type": "code",
      "source": [
        "num = int(input(\"Enter a number \"))\n",
        "\n",
        "num1 = num\n",
        "sum = 0\n",
        "while num1 != 0:\n",
        "  digit = num1 % 10\n",
        "  sum = (sum*10)+digit\n",
        "  num1 = num1 // 10\n",
        "\n",
        "print(f\"Reverse of {num} is {sum}\")"
      ],
      "metadata": {
        "colab": {
          "base_uri": "https://localhost:8080/"
        },
        "id": "iYQflsvshsgT",
        "outputId": "2b6f241f-79bf-4c6e-ef8e-84705b85b058"
      },
      "execution_count": null,
      "outputs": [
        {
          "output_type": "stream",
          "name": "stdout",
          "text": [
            "Enter a number 125\n",
            "Reverse of 125 is 521\n"
          ]
        }
      ]
    },
    {
      "cell_type": "markdown",
      "source": [
        "Q5. Factors of a given number"
      ],
      "metadata": {
        "id": "gEZTzv6HjDfg"
      }
    },
    {
      "cell_type": "code",
      "source": [
        "num = int(input(\"Enter a number \"))\n",
        "\n",
        "print(f\"Factors of {num} are: \")\n",
        "for i in range(1, num + 1):\n",
        "  if num % i == 0:\n",
        "    print(i)"
      ],
      "metadata": {
        "colab": {
          "base_uri": "https://localhost:8080/"
        },
        "id": "5D76Im2-jIjo",
        "outputId": "26ab6014-985b-461b-eaf4-0fb6effd5c5e"
      },
      "execution_count": null,
      "outputs": [
        {
          "output_type": "stream",
          "name": "stdout",
          "text": [
            "Enter a number 6\n",
            "Factors of 6 are: \n",
            "1\n",
            "2\n",
            "3\n",
            "6\n"
          ]
        }
      ]
    },
    {
      "cell_type": "markdown",
      "source": [
        "Q6. Generate prime number series up to n"
      ],
      "metadata": {
        "id": "E9NceaC5kFL6"
      }
    },
    {
      "cell_type": "code",
      "source": [
        "n = int(input(\"Enter value for n: \"))\n",
        "\n",
        "print(f\"Prime numbers up to {n} are:\")\n",
        "\n",
        "for i in range(2, n + 1):\n",
        "    is_prime = True\n",
        "    for j in range(2, int(i ** 0.5) + 1):\n",
        "        if i % j == 0:\n",
        "            is_prime = False\n",
        "            break\n",
        "    if is_prime:\n",
        "        print(i)"
      ],
      "metadata": {
        "colab": {
          "base_uri": "https://localhost:8080/"
        },
        "id": "E0-cwTprjbeg",
        "outputId": "53afccd6-d123-477b-8d05-8e5716e1a899"
      },
      "execution_count": null,
      "outputs": [
        {
          "output_type": "stream",
          "name": "stdout",
          "text": [
            "Enter value for n: 25\n",
            "Prime numbers up to 25 are:\n",
            "2\n",
            "3\n",
            "5\n",
            "7\n",
            "11\n",
            "13\n",
            "17\n",
            "19\n",
            "23\n"
          ]
        }
      ]
    },
    {
      "cell_type": "markdown",
      "source": [
        "Q7. Write a program which makes use of function to display all such numbers which are divisible by 7 but are not a multiple of 5, between 1000 and 2000."
      ],
      "metadata": {
        "id": "gvYeUP3rmVaa"
      }
    },
    {
      "cell_type": "code",
      "source": [
        "def find_numbers():\n",
        "    results = []\n",
        "    for num in range(1000, 2001):\n",
        "        if num % 7 == 0 and num % 5 != 0:\n",
        "            results.append(num)\n",
        "    print(\"Numbers divisible by 7 but not a multiple of 5 between 1000 and 2000 are:\")\n",
        "    print(results)\n",
        "find_numbers()\n"
      ],
      "metadata": {
        "colab": {
          "base_uri": "https://localhost:8080/"
        },
        "id": "_OcShLTMmU9V",
        "outputId": "08137ad7-7b06-4cb6-a9d8-bfa234ab7588"
      },
      "execution_count": null,
      "outputs": [
        {
          "output_type": "stream",
          "name": "stdout",
          "text": [
            "Numbers divisible by 7 but not a multiple of 5 between 1000 and 2000 are:\n",
            "[1001, 1008, 1022, 1029, 1036, 1043, 1057, 1064, 1071, 1078, 1092, 1099, 1106, 1113, 1127, 1134, 1141, 1148, 1162, 1169, 1176, 1183, 1197, 1204, 1211, 1218, 1232, 1239, 1246, 1253, 1267, 1274, 1281, 1288, 1302, 1309, 1316, 1323, 1337, 1344, 1351, 1358, 1372, 1379, 1386, 1393, 1407, 1414, 1421, 1428, 1442, 1449, 1456, 1463, 1477, 1484, 1491, 1498, 1512, 1519, 1526, 1533, 1547, 1554, 1561, 1568, 1582, 1589, 1596, 1603, 1617, 1624, 1631, 1638, 1652, 1659, 1666, 1673, 1687, 1694, 1701, 1708, 1722, 1729, 1736, 1743, 1757, 1764, 1771, 1778, 1792, 1799, 1806, 1813, 1827, 1834, 1841, 1848, 1862, 1869, 1876, 1883, 1897, 1904, 1911, 1918, 1932, 1939, 1946, 1953, 1967, 1974, 1981, 1988]\n"
          ]
        }
      ]
    },
    {
      "cell_type": "markdown",
      "source": [
        "Q8. Given number is palindrome or not."
      ],
      "metadata": {
        "id": "iPqDmoSem0fM"
      }
    },
    {
      "cell_type": "code",
      "source": [
        "num = int(input(\"Enter a number: \"))\n",
        "\n",
        "num1 = num\n",
        "sum = 0\n",
        "while num1 != 0:\n",
        "  digit = num1 % 10\n",
        "  sum = sum * 10 + digit\n",
        "  num1 = num1 / 10\n",
        "\n",
        "if sum == num:\n",
        "  print(f\"{num} is a palindrome number\")\n",
        "else:\n",
        "  print(f\"{num} is not a palindrome number\")"
      ],
      "metadata": {
        "colab": {
          "base_uri": "https://localhost:8080/"
        },
        "id": "cGOHfOscm7aG",
        "outputId": "098a6009-ed4c-491e-b52d-f36f21dffc29"
      },
      "execution_count": null,
      "outputs": [
        {
          "output_type": "stream",
          "name": "stdout",
          "text": [
            "Enter a number: 125\n",
            "125 is not a palindrome number\n"
          ]
        }
      ]
    },
    {
      "cell_type": "markdown",
      "source": [
        "Q9.\tWAP to check whether a) is a perfect number b) is an Armstrong number"
      ],
      "metadata": {
        "id": "2XunBx-LshM6"
      }
    },
    {
      "cell_type": "code",
      "source": [
        "num = int(input(\"Enter a number to check if it is a perfect number: \"))\n",
        "\n",
        "sum = 0\n",
        "\n",
        "for i in range (1,num):\n",
        "  if num % i == 0:\n",
        "    sum += i\n",
        "\n",
        "if sum == num:\n",
        "    print(f\"{num} is a perfect number.\")\n",
        "else:\n",
        "    print(f\"{num} is not a perfect number.\")"
      ],
      "metadata": {
        "colab": {
          "base_uri": "https://localhost:8080/"
        },
        "id": "jOFPJR06s2_b",
        "outputId": "1996c06d-09a5-4fcc-a33e-ba2ccf6d5f3e"
      },
      "execution_count": null,
      "outputs": [
        {
          "output_type": "stream",
          "name": "stdout",
          "text": [
            "Enter a number to check if it is a perfect number: 6\n",
            "6 is a perfect number.\n"
          ]
        }
      ]
    },
    {
      "cell_type": "code",
      "source": [
        "# Input from the user\n",
        "num = int(input(\"Enter a number to check if it is an Armstrong number: \"))\n",
        "\n",
        "# Convert the number to a string to easily iterate over digits\n",
        "num_str = str(num)\n",
        "\n",
        "# Calculate the number of digits\n",
        "num_digits = len(num_str)\n",
        "\n",
        "# Initialize the sum of powers of digits\n",
        "sum_of_powers = 0\n",
        "\n",
        "# Calculate the sum of each digit raised to the power of num_digits\n",
        "for digit in num_str:\n",
        "    sum_of_powers += int(digit) ** num_digits\n",
        "\n",
        "# Check if the sum of powers equals the original number\n",
        "if sum_of_powers == num:\n",
        "    print(f\"{num} is an Armstrong number.\")\n",
        "else:\n",
        "    print(f\"{num} is not an Armstrong number.\")"
      ],
      "metadata": {
        "colab": {
          "base_uri": "https://localhost:8080/"
        },
        "id": "LJsyJtZMuIhg",
        "outputId": "45c3829d-5702-48ac-84a0-8960897214e5"
      },
      "execution_count": null,
      "outputs": [
        {
          "output_type": "stream",
          "name": "stdout",
          "text": [
            "Enter a number to check if it is an Armstrong number: 153\n",
            "153 is an Armstrong number.\n"
          ]
        }
      ]
    },
    {
      "cell_type": "markdown",
      "source": [
        "Q 10. WAP to generate the Fibonacci series upto n."
      ],
      "metadata": {
        "id": "vYpbHe48t9Pw"
      }
    },
    {
      "cell_type": "code",
      "source": [
        "# Input from the user\n",
        "n = int(input(\"Enter the value for n: \"))\n",
        "\n",
        "# Initialize the first two Fibonacci numbers\n",
        "a, b = 0, 1\n",
        "\n",
        "# Start with the first Fibonacci number\n",
        "print(f\"Fibonacci series up to {n} is:\")\n",
        "\n",
        "# Print the Fibonacci numbers up to n\n",
        "while a <= n:\n",
        "    print(a, end=\" \")\n",
        "    a, b = b, a + b\n"
      ],
      "metadata": {
        "colab": {
          "base_uri": "https://localhost:8080/"
        },
        "id": "kVDl-f0QuFH-",
        "outputId": "c2ec9312-479b-4229-fcbc-8d5be36fd78a"
      },
      "execution_count": null,
      "outputs": [
        {
          "output_type": "stream",
          "name": "stdout",
          "text": [
            "Enter the value for n: 6\n",
            "Fibonacci series up to 6 is:\n",
            "0 1 1 2 3 5 "
          ]
        }
      ]
    },
    {
      "cell_type": "markdown",
      "source": [
        "Q1. WAP to print your name."
      ],
      "metadata": {
        "id": "Z4X8JkGIvBxZ"
      }
    },
    {
      "cell_type": "code",
      "source": [
        "print(\"My name is: Aheli\")"
      ],
      "metadata": {
        "colab": {
          "base_uri": "https://localhost:8080/"
        },
        "id": "-EJgWLN7vc7S",
        "outputId": "b57b61d0-8ecc-4f1f-c5a3-4f405f4bfdb3"
      },
      "execution_count": null,
      "outputs": [
        {
          "output_type": "stream",
          "name": "stdout",
          "text": [
            "My name is: Aheli\n"
          ]
        }
      ]
    },
    {
      "cell_type": "markdown",
      "source": [
        "Q2. Write a Java program to add two numbers."
      ],
      "metadata": {
        "id": "yVfEOpdWwEs7"
      }
    },
    {
      "cell_type": "code",
      "source": [
        "num1 = int(input(\"Enter first number: \"))\n",
        "num2 = int(input(\"Enter second number: \"))\n",
        "\n",
        "sum = num1+num2\n",
        "\n",
        "print(f\"Sum of numbers are: {sum}\")"
      ],
      "metadata": {
        "colab": {
          "base_uri": "https://localhost:8080/"
        },
        "id": "5qeSe8IxvrQ5",
        "outputId": "6a8c52b4-7c9a-4d3f-d5b6-29b85672bb2a"
      },
      "execution_count": null,
      "outputs": [
        {
          "output_type": "stream",
          "name": "stdout",
          "text": [
            "Enter first number: 20\n",
            "Enter second number: 30\n",
            "Sum of numbers are: 50\n"
          ]
        }
      ]
    },
    {
      "cell_type": "markdown",
      "source": [
        "Q3. WAP to change temperature from Fahrenheit to Celsius."
      ],
      "metadata": {
        "id": "QwElbe0FwicB"
      }
    },
    {
      "cell_type": "code",
      "source": [
        "# Input from the user\n",
        "fahrenheit = float(input(\"Enter temperature in Fahrenheit: \"))\n",
        "\n",
        "# Convert Fahrenheit to Celsius using the formula\n",
        "celsius = (fahrenheit - 32) * 5 / 9\n",
        "\n",
        "# Print the converted temperature\n",
        "print(f\"{fahrenheit}° Fahrenheit is equal to {celsius:.2f}° Celsius.\")\n"
      ],
      "metadata": {
        "colab": {
          "base_uri": "https://localhost:8080/"
        },
        "id": "yPtcBZdJwbw-",
        "outputId": "212c3016-a898-424d-931e-437cca91f089"
      },
      "execution_count": null,
      "outputs": [
        {
          "output_type": "stream",
          "name": "stdout",
          "text": [
            "Enter temperature in Fahrenheit: 63\n",
            "63.0° Fahrenheit is equal to 17.22° Celsius.\n"
          ]
        }
      ]
    },
    {
      "cell_type": "markdown",
      "source": [
        "Q4. WAP to find area and perimeter of a rectangle."
      ],
      "metadata": {
        "id": "X6RYCtUCxAsB"
      }
    },
    {
      "cell_type": "code",
      "source": [
        "# Input from the user\n",
        "length = float(input(\"Enter the length of the rectangle: \"))\n",
        "width = float(input(\"Enter the width of the rectangle: \"))\n",
        "\n",
        "# Calculate the area\n",
        "area = length * width\n",
        "\n",
        "# Calculate the perimeter\n",
        "perimeter = 2 * (length + width)\n",
        "\n",
        "# Print the results\n",
        "print(f\"The area of the rectangle is: {area:.2f}\")\n",
        "print(f\"The perimeter of the rectangle is: {perimeter:.2f}\")\n"
      ],
      "metadata": {
        "colab": {
          "base_uri": "https://localhost:8080/"
        },
        "id": "jq4Ab6QKxAQM",
        "outputId": "4f6eac77-fc52-4d2a-dc1d-6163cb59f638"
      },
      "execution_count": null,
      "outputs": [
        {
          "output_type": "stream",
          "name": "stdout",
          "text": [
            "Enter the length of the rectangle: 12\n",
            "Enter the width of the rectangle: 14\n",
            "The area of the rectangle is: 168.00\n",
            "The perimeter of the rectangle is: 52.00\n"
          ]
        }
      ]
    },
    {
      "cell_type": "markdown",
      "source": [
        "Q5. WAP to find area and perimeter of a circle."
      ],
      "metadata": {
        "id": "jrCNwyllxX7x"
      }
    },
    {
      "cell_type": "code",
      "source": [
        "# Use an approximate value of pi\n",
        "pi = 3.14159\n",
        "\n",
        "# Input from the user\n",
        "radius = float(input(\"Enter the radius of the circle: \"))\n",
        "\n",
        "# Calculate the area\n",
        "area = pi * radius ** 2\n",
        "\n",
        "# Calculate the circumference\n",
        "circumference = 2 * pi * radius\n",
        "\n",
        "# Print the results\n",
        "print(f\"The area of the circle is: {area:.2f}\")\n",
        "print(f\"The circumference of the circle is: {circumference:.2f}\")\n"
      ],
      "metadata": {
        "colab": {
          "base_uri": "https://localhost:8080/"
        },
        "id": "4wgNmAZMxb0E",
        "outputId": "283601fb-7479-4d42-d241-32aa8995f223"
      },
      "execution_count": null,
      "outputs": [
        {
          "output_type": "stream",
          "name": "stdout",
          "text": [
            "Enter the radius of the circle: 6\n",
            "The area of the circle is: 113.10\n",
            "The circumference of the circle is: 37.70\n"
          ]
        }
      ]
    },
    {
      "cell_type": "markdown",
      "source": [
        "Q6. WAP to display whether a number is odd or even."
      ],
      "metadata": {
        "id": "s4FVeLUVylzO"
      }
    },
    {
      "cell_type": "code",
      "source": [
        "num = int(input(\"Enter a number: \"))\n",
        "\n",
        "if num % 2 == 0:\n",
        "  print(f\"{num} is an even number\")\n",
        "else:\n",
        "  print(f\"{num} is an odd number\")"
      ],
      "metadata": {
        "colab": {
          "base_uri": "https://localhost:8080/"
        },
        "id": "vYLkrJtxyp9V",
        "outputId": "bddae351-fae4-4a9b-dcfc-da6430e46641"
      },
      "execution_count": null,
      "outputs": [
        {
          "output_type": "stream",
          "name": "stdout",
          "text": [
            "Enter a number: 26\n",
            "26 is an even number\n"
          ]
        }
      ]
    },
    {
      "cell_type": "markdown",
      "source": [
        "Q7. WAP to check if a number is Positive or Negative."
      ],
      "metadata": {
        "id": "c3TriJ5_zEnf"
      }
    },
    {
      "cell_type": "code",
      "source": [
        "num = int(input(\"Enter a number: \"))\n",
        "\n",
        "if num > 0:\n",
        "  print(f\"{num} is positive\")\n",
        "else:\n",
        "  print(f\"{num} is negative\")"
      ],
      "metadata": {
        "colab": {
          "base_uri": "https://localhost:8080/"
        },
        "id": "_OBFKoJ1y9Y8",
        "outputId": "741a42f2-f06e-4038-e609-fad25f543256"
      },
      "execution_count": null,
      "outputs": [
        {
          "output_type": "stream",
          "name": "stdout",
          "text": [
            "Enter a number: -5\n",
            "-5 is negative\n"
          ]
        }
      ]
    },
    {
      "cell_type": "markdown",
      "source": [
        "Q8. WAP to find maximum of three numbers"
      ],
      "metadata": {
        "id": "1aPcuu52zb52"
      }
    },
    {
      "cell_type": "code",
      "source": [
        "# Input from the user\n",
        "num1 = float(input(\"Enter the first number: \"))\n",
        "num2 = float(input(\"Enter the second number: \"))\n",
        "num3 = float(input(\"Enter the third number: \"))\n",
        "\n",
        "# Initialize the maximum number as the first number\n",
        "max_num = num1\n",
        "\n",
        "# Compare with the second number\n",
        "if num2 > max_num:\n",
        "    max_num = num2\n",
        "\n",
        "# Compare with the third number\n",
        "if num3 > max_num:\n",
        "    max_num = num3\n",
        "\n",
        "# Print the maximum number\n",
        "print(f\"The maximum of the three numbers is: {max_num}\")\n"
      ],
      "metadata": {
        "colab": {
          "base_uri": "https://localhost:8080/"
        },
        "id": "kSCd_hqgzwHd",
        "outputId": "d8e1981d-c19b-434e-8202-bb2a15543054"
      },
      "execution_count": null,
      "outputs": [
        {
          "output_type": "stream",
          "name": "stdout",
          "text": [
            "Enter the first number: 26\n",
            "Enter the second number: 32\n",
            "Enter the third number: 59\n",
            "The maximum of the three numbers is: 59.0\n"
          ]
        }
      ]
    },
    {
      "cell_type": "markdown",
      "source": [
        "Q9.  WAP to swap two numbers."
      ],
      "metadata": {
        "id": "r4lvmhQrz8iB"
      }
    },
    {
      "cell_type": "code",
      "source": [
        "num1 = int(input(\"Enter first number:\"))\n",
        "num2 = int(input(\"Enter second number: \"))\n",
        "\n",
        "print(f\"Before swapping num1 is {num1} and num2 is {num2}\")\n",
        "\n",
        "temp = num1\n",
        "num1 = num2\n",
        "num2 = temp\n",
        "\n",
        "print(f\"After swapping num1 is {num1} and num2 is {num2}\")"
      ],
      "metadata": {
        "colab": {
          "base_uri": "https://localhost:8080/"
        },
        "id": "nUNQud9U0DBz",
        "outputId": "e1d8d79d-4e23-41c7-a00f-ce7ed4ea25c1"
      },
      "execution_count": null,
      "outputs": [
        {
          "output_type": "stream",
          "name": "stdout",
          "text": [
            "Enter first number:23\n",
            "Enter second number: 15\n",
            "Before swapping num1 is 23 and num2 is 15\n",
            "After swapping num1 is 15 and num2 is 23\n"
          ]
        }
      ]
    },
    {
      "cell_type": "markdown",
      "source": [
        "Q10.  WAP to convert miles to kilometers."
      ],
      "metadata": {
        "id": "v75CqyJL0kck"
      }
    },
    {
      "cell_type": "code",
      "source": [
        "# Conversion factor\n",
        "miles_to_km_conversion_factor = 1.60934\n",
        "\n",
        "# Input from the user\n",
        "miles = float(input(\"Enter the distance in miles: \"))\n",
        "\n",
        "# Convert miles to kilometers\n",
        "kilometers = miles * miles_to_km_conversion_factor\n",
        "\n",
        "# Print the result\n",
        "print(f\"{miles} miles is equal to {kilometers:.2f} kilometers.\")\n"
      ],
      "metadata": {
        "colab": {
          "base_uri": "https://localhost:8080/"
        },
        "id": "7JTLUZs-0qcY",
        "outputId": "6e7b52d1-ac43-442e-d5b6-2de5b4abccce"
      },
      "execution_count": null,
      "outputs": [
        {
          "output_type": "stream",
          "name": "stdout",
          "text": [
            "Enter the distance in miles: 23\n",
            "23.0 miles is equal to 37.01 kilometers.\n"
          ]
        }
      ]
    }
  ]
}