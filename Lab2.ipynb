{
  "nbformat": 4,
  "nbformat_minor": 0,
  "metadata": {
    "colab": {
      "provenance": [],
      "include_colab_link": true
    },
    "kernelspec": {
      "name": "python3",
      "display_name": "Python 3"
    },
    "language_info": {
      "name": "python"
    }
  },
  "cells": [
    {
      "cell_type": "markdown",
      "metadata": {
        "id": "view-in-github",
        "colab_type": "text"
      },
      "source": [
        "<a href=\"https://colab.research.google.com/github/viswajeet-sarangi-A/Python/blob/main/Lab2.ipynb\" target=\"_parent\"><img src=\"https://colab.research.google.com/assets/colab-badge.svg\" alt=\"Open In Colab\"/></a>"
      ]
    },
    {
      "cell_type": "markdown",
      "source": [
        "Q1)To find the sum of square root of any three numbers."
      ],
      "metadata": {
        "id": "QtJA7v2CLYPa"
      }
    },
    {
      "cell_type": "code",
      "execution_count": null,
      "metadata": {
        "id": "RcgzXPv7I7Xt"
      },
      "outputs": [],
      "source": [
        "import math\n",
        "\n",
        "def sum_of_square_roots(a, b, c):\n",
        "    return math.sqrt(a) + math.sqrt(b) + math.sqrt(c)\n",
        "\n",
        "\n",
        "a = 9\n",
        "b = 16\n",
        "c = 25\n",
        "result = sum_of_square_roots(a, b, c)\n",
        "print(f\"The sum of the square roots of {a}, {b}, and {c} is {result}\")\n"
      ]
    },
    {
      "cell_type": "markdown",
      "source": [
        "Q2)To solve the quadratic equation."
      ],
      "metadata": {
        "id": "ZuOOS6WwLiAV"
      }
    },
    {
      "cell_type": "code",
      "source": [
        "import math\n",
        "\n",
        "def solve_quadratic(a, b, c):\n",
        "\n",
        "    discriminant = b**2 - 4*a*c\n",
        "\n",
        "\n",
        "    if discriminant < 0:\n",
        "        return \"No real roots\"\n",
        "    elif discriminant == 0:\n",
        "        x = -b / (2*a)\n",
        "        return f\"One real root: x = {x}\"\n",
        "    else:\n",
        "        x1 = (-b + math.sqrt(discriminant)) / (2*a)\n",
        "        x2 = (-b - math.sqrt(discriminant)) / (2*a)\n",
        "        return f\"Two real roots: x1 = {x1}, x2 = {x2}\"\n",
        "\n",
        "a = 1\n",
        "b = -3\n",
        "c = 2\n",
        "result = solve_quadratic(a, b, c)\n",
        "print(result)\n"
      ],
      "metadata": {
        "id": "YgcZlfAcLowT"
      },
      "execution_count": null,
      "outputs": []
    },
    {
      "cell_type": "markdown",
      "source": [
        "Q3)Find GCD of two numbers"
      ],
      "metadata": {
        "id": "gsutCCwhLsFp"
      }
    },
    {
      "cell_type": "code",
      "source": [
        "def gcd(a, b):\n",
        "    while b:\n",
        "        a, b = b, a % b\n",
        "    return a\n",
        "\n",
        "num1 = 48\n",
        "num2 = 18\n",
        "result = gcd(num1, num2)\n",
        "print(f\"The GCD of {num1} and {num2} is {result}\")\n"
      ],
      "metadata": {
        "id": "qN-G7MIvLwju"
      },
      "execution_count": null,
      "outputs": []
    },
    {
      "cell_type": "markdown",
      "source": [
        "Q4)Compute a)5 to the power of 8 b)square root of 400 c)exponent of 5 d)Logarithm of 625\n",
        "base 5"
      ],
      "metadata": {
        "id": "Zf9HZlZUL2td"
      }
    },
    {
      "cell_type": "code",
      "source": [
        "import math\n",
        "\n",
        "\n",
        "power_result = 5 ** 8\n",
        "print(f\"5 to the power of 8 is {power_result}\")\n",
        "\n",
        "sqrt_result = math.sqrt(400)\n",
        "print(f\"The square root of 400 is {sqrt_result}\")\n",
        "\n",
        "exp_result = math.exp(5)\n",
        "print(f\"The exponent of 5 is {exp_result}\")\n",
        "\n",
        "\n",
        "log_result = math.log(625, 5)\n",
        "print(f\"The logarithm of 625 with base 5 is {log_result}\")\n"
      ],
      "metadata": {
        "id": "NqkFI3RaL6Jl"
      },
      "execution_count": null,
      "outputs": []
    },
    {
      "cell_type": "markdown",
      "source": [
        "Q5)Compute a)sin of 60 degree b)cos of pi c)sin(0.8660254037844386) d)tan of 90 degree"
      ],
      "metadata": {
        "id": "rMfoRwGzL-y1"
      }
    },
    {
      "cell_type": "code",
      "source": [
        "import math\n",
        "\n",
        "\n",
        "radians_60 = math.radians(60)\n",
        "sin_60 = math.sin(radians_60)\n",
        "print(f\"Sine of 60 degrees is {sin_60}\")\n",
        "\n",
        "\n",
        "cos_pi = math.cos(math.pi)\n",
        "print(f\"Cosine of pi is {cos_pi}\")\n",
        "\n",
        "sin_value = math.sin(0.8660254037844386)\n",
        "print(f\"Sine of 0.8660254037844386 is {sin_value}\")\n",
        "\n",
        "try:\n",
        "    radians_90 = math.radians(90)\n",
        "    tan_90 = math.tan(radians_90)\n",
        "    print(f\"Tangent of 90 degrees is {tan_90}\")\n",
        "except ValueError as e:\n",
        "    print(f\"Tangent of 90 degrees is undefined: {e}\")\n"
      ],
      "metadata": {
        "id": "tRyd8L0iMKwN"
      },
      "execution_count": null,
      "outputs": []
    },
    {
      "cell_type": "markdown",
      "source": [
        "Q6)Define a sum function with two parameters and call the function"
      ],
      "metadata": {
        "id": "xeVq1X62MMXt"
      }
    },
    {
      "cell_type": "code",
      "source": [
        "\n",
        "def sum_two_numbers(a, b):\n",
        "    return a + b\n",
        "\n",
        "num1 = 5\n",
        "num2 = 10\n",
        "result = sum_two_numbers(num1, num2)\n",
        "print(f\"The sum of {num1} and {num2} is {result}\")\n"
      ],
      "metadata": {
        "id": "dtj73a-OMT_I"
      },
      "execution_count": null,
      "outputs": []
    },
    {
      "cell_type": "markdown",
      "source": [
        "Q7)WAP to reverse a given string."
      ],
      "metadata": {
        "id": "gV0nOwULMfOu"
      }
    },
    {
      "cell_type": "code",
      "source": [
        "\n",
        "def reverse_string(s):\n",
        "    return s[::-1]\n",
        "\n",
        "# Example usage\n",
        "input_string = \"Hello, World!\"\n",
        "reversed_string = reverse_string(input_string)\n",
        "print(f\"The reversed string of '{input_string}' is '{reversed_string}'\")\n"
      ],
      "metadata": {
        "id": "mfCzPZRUMnhF"
      },
      "execution_count": null,
      "outputs": []
    },
    {
      "cell_type": "markdown",
      "source": [
        "Q8)Write a function to calculate the power of a number using recursion"
      ],
      "metadata": {
        "id": "2oYTPMf1MpJ4"
      }
    },
    {
      "cell_type": "code",
      "source": [
        "\n",
        "\n",
        "    if exponent == 0:\n",
        "        return 1\n",
        "\n",
        "    else:\n",
        "        return base * power(base, exponent - 1)\n",
        "\n",
        "\n",
        "base = 2\n",
        "exponent = 8\n",
        "result = power(base, exponent)\n",
        "print(f\"{base} to the power of {exponent} is {result}\")\n"
      ],
      "metadata": {
        "id": "fd4JyxW8NExF"
      },
      "execution_count": null,
      "outputs": []
    },
    {
      "cell_type": "markdown",
      "source": [
        "Q9)Convert Decimal number to Binary"
      ],
      "metadata": {
        "id": "UHihGkwPNFw2"
      }
    },
    {
      "cell_type": "code",
      "source": [
        "def decimal_to_binary(decimal_number):\n",
        "\n",
        "    binary_representation = bin(decimal_number)\n",
        "\n",
        "    return binary_representation[2:]\n",
        "\n",
        "# Example usage\n",
        "decimal_number = 13\n",
        "binary_number = decimal_to_binary(decimal_number)\n",
        "print(f\"The binary representation of {decimal_number} is {binary_number}\")\n"
      ],
      "metadata": {
        "id": "tHUNJ4ShNXQF"
      },
      "execution_count": null,
      "outputs": []
    },
    {
      "cell_type": "markdown",
      "source": [
        "Q10)Write a program in Python to check if a number is Krishnamurthy number."
      ],
      "metadata": {
        "id": "bIiPgYtDNau-"
      }
    },
    {
      "cell_type": "code",
      "source": [
        "import math\n",
        "\n",
        "def is_krishnamurthy_number(num):\n",
        "\n",
        "    digits = str(num)\n",
        "\n",
        "\n",
        "    sum_of_factorials = sum(math.factorial(int(digit)) for digit in digits)\n",
        "\n",
        "r\n",
        "    return sum_of_factorials == num\n",
        "\n",
        "# Example usage\n",
        "number = 145\n",
        "if is_krishnamurthy_number(number):\n",
        "    print(f\"{number} is a Krishnamurthy number.\")\n",
        "else:\n",
        "    print(f\"{number} is not a Krishnamurthy number.\")\n"
      ],
      "metadata": {
        "id": "wtitaI8rNfi_"
      },
      "execution_count": null,
      "outputs": []
    },
    {
      "cell_type": "markdown",
      "source": [
        "Q11)Write a program in Python to find the sum of digits of a number."
      ],
      "metadata": {
        "id": "eYY782fdNlcg"
      }
    },
    {
      "cell_type": "code",
      "source": [
        "def sum_of_digits(number):\n",
        "\n",
        "    number = abs(number)\n",
        "\n",
        "    digits = str(number)\n",
        "\n",
        "    total_sum = sum(int(digit) for digit in digits)\n",
        "\n",
        "    return total_sum\n",
        "\n",
        "number = 1234\n",
        "result = sum_of_digits(number)\n",
        "print(f\"The sum of the digits of {number} is {result}.\")\n"
      ],
      "metadata": {
        "id": "FKSmU_UBNtLg"
      },
      "execution_count": null,
      "outputs": []
    },
    {
      "cell_type": "markdown",
      "source": [
        "Q12)12. Write a program in Python that prompts the user to input a number and prints its\n",
        "multiplication table."
      ],
      "metadata": {
        "id": "Ag0oJK5kNu2F"
      }
    },
    {
      "cell_type": "code",
      "source": [
        "def print_multiplication_table(number, up_to=10):\n",
        "    print(f\"Multiplication table for {number}:\")\n",
        "    for i in range(1, up_to + 1):\n",
        "        print(f\"{number} x {i} = {number * i}\")\n",
        "\n",
        "\n",
        "try:\n",
        "    number = int(input(\"Enter a number to print its multiplication table: \"))\n",
        "    print_multiplication_table(number)\n",
        "except ValueError:\n",
        "    print(\"Invalid input. Please enter a valid integer.\")\n"
      ],
      "metadata": {
        "id": "C3vqsfutN3CH"
      },
      "execution_count": null,
      "outputs": []
    },
    {
      "cell_type": "markdown",
      "source": [
        "Q13)Write a Python program to print the first 6 terms of a geometric sequence starting with 2\n",
        "and having a common ratio of 3."
      ],
      "metadata": {
        "id": "N26fQ3xrN4t-"
      }
    },
    {
      "cell_type": "code",
      "source": [
        "def print_geometric_sequence(start, ratio, num_terms):\n",
        "    print(\"Geometric sequence:\")\n",
        "    current_term = start\n",
        "    for _ in range(num_terms):\n",
        "        print(current_term, end=' ')\n",
        "        current_term *= ratio\n",
        "    print()\n",
        "start = 2\n",
        "ratio = 3\n",
        "num_terms = 6\n",
        "\n",
        "print_geometric_sequence(start, ratio, num_terms)\n"
      ],
      "metadata": {
        "id": "RLxOLY5POAPN"
      },
      "execution_count": null,
      "outputs": []
    },
    {
      "cell_type": "markdown",
      "source": [
        "Q14)Print the series upto N terms: 1,2,6,24,120,720 …"
      ],
      "metadata": {
        "id": "59ra74u7OBOd"
      }
    },
    {
      "cell_type": "code",
      "source": [
        "import math\n",
        "\n",
        "def print_factorial_series(n_terms):\n",
        "    print(\"Factorial series:\")\n",
        "    for i in range(n_terms):\n",
        "        print(math.factorial(i), end=' ')\n",
        "    print()\n",
        "\n",
        "try:\n",
        "    n_terms = int(input(\"Enter the number of terms to print in the factorial series: \"))\n",
        "    if n_terms <= 0:\n",
        "        print(\"Please enter a positive integer.\")\n",
        "    else:\n",
        "        print_factorial_series(n_terms)\n",
        "except ValueError:\n",
        "    print(\"Invalid input. Please enter a valid integer.\")\n"
      ],
      "metadata": {
        "id": "4s2W3utoOId3"
      },
      "execution_count": null,
      "outputs": []
    },
    {
      "cell_type": "markdown",
      "source": [
        "Q15)Write a Python program that prompts the user to enter a base number and an exponent,\n",
        "and then calculates the power of the base to the exponent. The program should not use the\n",
        "exponentiation operator (**) or the math.pow() function."
      ],
      "metadata": {
        "id": "B2Oe7H6iOK8F"
      }
    },
    {
      "cell_type": "code",
      "source": [
        "def power(base, exponent):\n",
        "\n",
        "    result = 1\n",
        "\n",
        "    for _ in range(exponent):\n",
        "        result *= base\n",
        "    return result\n",
        "\n",
        "\n",
        "try:\n",
        "    base = float(input(\"Enter the base number: \"))\n",
        "    exponent = int(input(\"Enter the exponent: \"))\n",
        "\n",
        "    if exponent < 0:\n",
        "        print(\"Exponent should be a non-negative integer.\")\n",
        "    else:\n",
        "        result = power(base, exponent)\n",
        "        print(f\"{base} raised to the power of {exponent} is {result}\")\n",
        "except ValueError:\n",
        "    print(\"Invalid input. Please enter valid numbers for base and exponent.\")\n"
      ],
      "metadata": {
        "id": "LCXMA1piOQb_"
      },
      "execution_count": null,
      "outputs": []
    }
  ]
}